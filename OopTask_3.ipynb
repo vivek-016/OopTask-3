{
  "nbformat": 4,
  "nbformat_minor": 0,
  "metadata": {
    "colab": {
      "name": "OopTask-3.ipynb",
      "provenance": [],
      "authorship_tag": "ABX9TyMG7nntcMf2ESZph1kwdsYw",
      "include_colab_link": true
    },
    "kernelspec": {
      "name": "python3",
      "display_name": "Python 3"
    },
    "language_info": {
      "name": "python"
    }
  },
  "cells": [
    {
      "cell_type": "markdown",
      "metadata": {
        "id": "view-in-github",
        "colab_type": "text"
      },
      "source": [
        "<a href=\"https://colab.research.google.com/github/vivek-016/OopTask-3/blob/main/OopTask_3.ipynb\" target=\"_parent\"><img src=\"https://colab.research.google.com/assets/colab-badge.svg\" alt=\"Open In Colab\"/></a>"
      ]
    },
    {
      "cell_type": "code",
      "metadata": {
        "colab": {
          "base_uri": "https://localhost:8080/"
        },
        "id": "38I-uiZswzde",
        "outputId": "a3b328c2-355c-4452-c12f-69481104be57"
      },
      "source": [
        "#1st Problem\n",
        "class Student:\n",
        "  def info(self):\n",
        "    self.name = str(input('Name: '))\n",
        "    self.reg_no = int(input('Reg no: '))\n",
        "    self.age = int(input('age: '))\n",
        "    self.gender = str(input('gender: '))\n",
        "    self.branch = str(input('branch: '))\n",
        "    self.sem = int(input('sem: '))\n",
        "class StudentResultInfo(Student):\n",
        "  def Result(self):\n",
        "    self.total_marks = int(input('total marks: '))\n",
        "    self.percentage = int(input('percenntage: '))\n",
        "    self.grade = str(input('grade: '))\n",
        "  def DisplayInfo(self):\n",
        "    print('Name: ',self.name)\n",
        "    print('reg no: ',self.reg_no)\n",
        "    print('age: ',self.age)\n",
        "    print('gender: ',self.gender)\n",
        "    print('branch: ',self.branch)\n",
        "    print('sem: ',self.sem)\n",
        "  def DisplayResult(self):\n",
        "    print('Total Marks: ',self.total_marks)\n",
        "    print('percentage: ',self.percentage)\n",
        "    print('grade: ',self.grade)        \n",
        "    \n",
        "S1 = StudentResultInfo()\n",
        "S1.info() \n",
        "S1.Result() \n",
        "S1.DisplayInfo()\n",
        "S1.DisplayResult()  "
      ],
      "execution_count": null,
      "outputs": [
        {
          "output_type": "stream",
          "name": "stdout",
          "text": [
            "Name: vivek\n",
            "Reg no: 16\n",
            "age: 18\n",
            "gender: m\n",
            "branch: cse\n",
            "sem: 3\n",
            "total marks: 100\n",
            "percenntage: 95\n",
            "grade: a\n",
            "Name:  vivek\n",
            "reg no:  16\n",
            "age:  18\n",
            "gender:  m\n",
            "branch:  cse\n",
            "sem:  3\n",
            "Total Marks:  100\n",
            "percentage:  95\n",
            "grade:  a\n"
          ]
        }
      ]
    },
    {
      "cell_type": "code",
      "metadata": {
        "id": "ZV2R07_j8Q7D",
        "colab": {
          "base_uri": "https://localhost:8080/"
        },
        "outputId": "4c7e1cf5-e8f2-4d7c-9065-8a58a288b599"
      },
      "source": [
        "#2nd Problem\n",
        "class PDF():\n",
        "  def info(self):\n",
        "    self.creator = str(input('Creator: '))\n",
        "    self.description = str(input('description: '))\n",
        "    self.filesize = int(input('size: '))\n",
        "  def Checksize(self):\n",
        "    if self.filesize > 100:\n",
        "      print('size is exceeding limit')\n",
        "    else:\n",
        "      print('size is ok')\n",
        "  def Display(self):\n",
        "    print('creator: ',self.creator)\n",
        "    print('description: ',self.description)\n",
        "    print('filesize: ',self.filesize)\n",
        "\n",
        "class Pictures(PDF):\n",
        "  def info(self):\n",
        "    self.creator = str(input('Creator: '))\n",
        "    self.description = str(input('description: '))\n",
        "    self.filesize = int(input('size: '))\n",
        "    self.length = int(input('length: '))\n",
        "    self.breadth = int(input('breadth: '))\n",
        "  \n",
        "  def Display(self):\n",
        "    print('creator: ',self.creator)\n",
        "    print('description: ',self.description)\n",
        "    print('filesize: ',self.filesize)\n",
        "    print('length: ',self.length)\n",
        "    print('breadth: ',self.breadth)\n",
        "    \n",
        "  def Checkdimensions(self):\n",
        "    if 0 < self.length < 30:\n",
        "      print('length is ok')\n",
        "    else:\n",
        "      print('length is exceeding limit.')\n",
        "    if 0 < self.breadth < 30:\n",
        "      print('breadth is ok')\n",
        "    else:\n",
        "      print('breadth is exceeding limit')      \n",
        "F1 = PDF()\n",
        "F1.info()\n",
        "F1.Checksize()\n",
        "F1.Display()\n",
        "F2 = Pictures()\n",
        "F2.info()\n",
        "F2.Checksize()\n",
        "F2.Checkdimensions()\n",
        "F2.Display()\n",
        "\n",
        "\n",
        "        "
      ],
      "execution_count": null,
      "outputs": [
        {
          "output_type": "stream",
          "name": "stdout",
          "text": [
            "Creator: vivek\n",
            "description: pdf\n",
            "size: 80\n",
            "size is ok\n",
            "creator:  vivek\n",
            "description:  pdf\n",
            "filesize:  80\n",
            "Creator: vivek\n",
            "description: picture\n",
            "size: 120\n",
            "length: 31\n",
            "breadth: 29\n",
            "size is exceeding limit\n",
            "length is exceeding limit.\n",
            "breadth is ok\n",
            "creator:  vivek\n",
            "description:  picture\n",
            "filesize:  120\n",
            "length:  31\n",
            "breadth:  29\n"
          ]
        }
      ]
    },
    {
      "cell_type": "code",
      "metadata": {
        "id": "Hzy7dr25KeKC",
        "colab": {
          "base_uri": "https://localhost:8080/"
        },
        "outputId": "879fc4c5-068f-42b4-87e1-d83bb4c71622"
      },
      "source": [
        "#3rd Problem\n",
        "class Vehicle():\n",
        "  def info(self):\n",
        "    self.name = str(input('name: '))\n",
        "    self.mileage = int(input('mileage: '))\n",
        "    self.capacity = int(input('capacity: '))\n",
        "  def busfare(self):\n",
        "    self.fare = self.capacity * 100\n",
        "    return self.fare\n",
        "  def amount(self):\n",
        "    self.amount = self.fare\n",
        "    return self.amount  \n",
        "class Bus(Vehicle):\n",
        "  def info(self):\n",
        "    self.name = \"Bus\"\n",
        "    self.mileage = int(input('mileage: '))\n",
        "    self.capacity = 50\n",
        "  def amount(self):\n",
        "    self.amount = self.fare + ( (0.1) * self.fare )  \n",
        "    return self.amount\n",
        "V1 = Bus()\n",
        "V1.info()\n",
        "print(V1.busfare())\n",
        "print(V1.amount())\n",
        "V2 = Vehicle()\n",
        "V2.info()\n",
        "print(V2.busfare())\n",
        "print(V2.amount())\n",
        "\n",
        "\n",
        "\n",
        "    "
      ],
      "execution_count": 27,
      "outputs": [
        {
          "output_type": "stream",
          "name": "stdout",
          "text": [
            "mileage: 100\n",
            "5000\n",
            "5500.0\n",
            "name: car\n",
            "mileage: 100\n",
            "capacity: 50\n",
            "5000\n",
            "5000\n"
          ]
        }
      ]
    }
  ]
}